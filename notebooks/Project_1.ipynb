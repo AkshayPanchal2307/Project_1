{
 "cells": [
  {
   "cell_type": "code",
   "execution_count": 2,
   "id": "f618b782",
   "metadata": {},
   "outputs": [],
   "source": [
    "import pandas as pd "
   ]
  },
  {
   "cell_type": "code",
   "execution_count": 3,
   "id": "d62c54e7",
   "metadata": {},
   "outputs": [],
   "source": [
    "import seaborn as sns"
   ]
  },
  {
   "cell_type": "code",
   "execution_count": null,
   "id": "54bc4de6",
   "metadata": {},
   "outputs": [],
   "source": [
    "x = 5 "
   ]
  }
 ],
 "metadata": {
  "kernelspec": {
   "display_name": "Mid_bootcamp_project",
   "language": "python",
   "name": "mid_bootcamp_project"
  },
  "language_info": {
   "codemirror_mode": {
    "name": "ipython",
    "version": 3
   },
   "file_extension": ".py",
   "mimetype": "text/x-python",
   "name": "python",
   "nbconvert_exporter": "python",
   "pygments_lexer": "ipython3",
   "version": "3.9.12"
  }
 },
 "nbformat": 4,
 "nbformat_minor": 5
}
