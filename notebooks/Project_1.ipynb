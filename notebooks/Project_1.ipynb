{
 "cells": [
  {
   "cell_type": "markdown",
   "id": "08c866e3",
   "metadata": {},
   "source": [
    "# Mid-Boot-Camp-Project"
   ]
  },
  {
   "cell_type": "markdown",
   "id": "3deaa27b",
   "metadata": {},
   "source": [
    "Questions to be answered:\n",
    "\n",
    "    1 : Does Netflix has more focus on TV Shows than movies (Ratio of movies to TV Serials). \n",
    "    \n",
    "    2 : Understanding what content is available in different countries.\n",
    "    \n",
    "    3 : Understanding which countries have most content released and yearly analysis.\n",
    "    \n",
    "    3 : TV-Shows with maximum seasons.\n",
    "    \n",
    "    4 : What is the maximum duration of movies in Netflix ? \n",
    "    \n",
    "    "
   ]
  },
  {
   "cell_type": "markdown",
   "id": "b80c5382",
   "metadata": {},
   "source": [
    "Required Libraries"
   ]
  },
  {
   "cell_type": "code",
   "execution_count": 1,
   "id": "9ea8dfc0",
   "metadata": {},
   "outputs": [],
   "source": [
    "import numpy as np\n",
    "import pandas as pd \n",
    "import seaborn as sns\n",
    "import matplotlib.pyplot as plt "
   ]
  },
  {
   "cell_type": "markdown",
   "id": "747fb647",
   "metadata": {},
   "source": [
    "# Exploring and cleaning the data.\n"
   ]
  },
  {
   "cell_type": "code",
   "execution_count": 2,
   "id": "4e32e08a",
   "metadata": {},
   "outputs": [
    {
     "data": {
      "text/html": [
       "<div>\n",
       "<style scoped>\n",
       "    .dataframe tbody tr th:only-of-type {\n",
       "        vertical-align: middle;\n",
       "    }\n",
       "\n",
       "    .dataframe tbody tr th {\n",
       "        vertical-align: top;\n",
       "    }\n",
       "\n",
       "    .dataframe thead th {\n",
       "        text-align: right;\n",
       "    }\n",
       "</style>\n",
       "<table border=\"1\" class=\"dataframe\">\n",
       "  <thead>\n",
       "    <tr style=\"text-align: right;\">\n",
       "      <th></th>\n",
       "      <th>show_id</th>\n",
       "      <th>type</th>\n",
       "      <th>title</th>\n",
       "      <th>director</th>\n",
       "      <th>cast</th>\n",
       "      <th>country</th>\n",
       "      <th>date_added</th>\n",
       "      <th>release_year</th>\n",
       "      <th>rating</th>\n",
       "      <th>duration</th>\n",
       "      <th>listed_in</th>\n",
       "      <th>description</th>\n",
       "    </tr>\n",
       "  </thead>\n",
       "  <tbody>\n",
       "    <tr>\n",
       "      <th>0</th>\n",
       "      <td>s1</td>\n",
       "      <td>Movie</td>\n",
       "      <td>Dick Johnson Is Dead</td>\n",
       "      <td>Kirsten Johnson</td>\n",
       "      <td>NaN</td>\n",
       "      <td>United States</td>\n",
       "      <td>September 25, 2021</td>\n",
       "      <td>2020</td>\n",
       "      <td>PG-13</td>\n",
       "      <td>90 min</td>\n",
       "      <td>Documentaries</td>\n",
       "      <td>As her father nears the end of his life, filmm...</td>\n",
       "    </tr>\n",
       "    <tr>\n",
       "      <th>1</th>\n",
       "      <td>s2</td>\n",
       "      <td>TV Show</td>\n",
       "      <td>Blood &amp; Water</td>\n",
       "      <td>NaN</td>\n",
       "      <td>Ama Qamata, Khosi Ngema, Gail Mabalane, Thaban...</td>\n",
       "      <td>South Africa</td>\n",
       "      <td>September 24, 2021</td>\n",
       "      <td>2021</td>\n",
       "      <td>TV-MA</td>\n",
       "      <td>2 Seasons</td>\n",
       "      <td>International TV Shows, TV Dramas, TV Mysteries</td>\n",
       "      <td>After crossing paths at a party, a Cape Town t...</td>\n",
       "    </tr>\n",
       "    <tr>\n",
       "      <th>2</th>\n",
       "      <td>s3</td>\n",
       "      <td>TV Show</td>\n",
       "      <td>Ganglands</td>\n",
       "      <td>Julien Leclercq</td>\n",
       "      <td>Sami Bouajila, Tracy Gotoas, Samuel Jouy, Nabi...</td>\n",
       "      <td>NaN</td>\n",
       "      <td>September 24, 2021</td>\n",
       "      <td>2021</td>\n",
       "      <td>TV-MA</td>\n",
       "      <td>1 Season</td>\n",
       "      <td>Crime TV Shows, International TV Shows, TV Act...</td>\n",
       "      <td>To protect his family from a powerful drug lor...</td>\n",
       "    </tr>\n",
       "    <tr>\n",
       "      <th>3</th>\n",
       "      <td>s4</td>\n",
       "      <td>TV Show</td>\n",
       "      <td>Jailbirds New Orleans</td>\n",
       "      <td>NaN</td>\n",
       "      <td>NaN</td>\n",
       "      <td>NaN</td>\n",
       "      <td>September 24, 2021</td>\n",
       "      <td>2021</td>\n",
       "      <td>TV-MA</td>\n",
       "      <td>1 Season</td>\n",
       "      <td>Docuseries, Reality TV</td>\n",
       "      <td>Feuds, flirtations and toilet talk go down amo...</td>\n",
       "    </tr>\n",
       "    <tr>\n",
       "      <th>4</th>\n",
       "      <td>s5</td>\n",
       "      <td>TV Show</td>\n",
       "      <td>Kota Factory</td>\n",
       "      <td>NaN</td>\n",
       "      <td>Mayur More, Jitendra Kumar, Ranjan Raj, Alam K...</td>\n",
       "      <td>India</td>\n",
       "      <td>September 24, 2021</td>\n",
       "      <td>2021</td>\n",
       "      <td>TV-MA</td>\n",
       "      <td>2 Seasons</td>\n",
       "      <td>International TV Shows, Romantic TV Shows, TV ...</td>\n",
       "      <td>In a city of coaching centers known to train I...</td>\n",
       "    </tr>\n",
       "  </tbody>\n",
       "</table>\n",
       "</div>"
      ],
      "text/plain": [
       "  show_id     type                  title         director  \\\n",
       "0      s1    Movie   Dick Johnson Is Dead  Kirsten Johnson   \n",
       "1      s2  TV Show          Blood & Water              NaN   \n",
       "2      s3  TV Show              Ganglands  Julien Leclercq   \n",
       "3      s4  TV Show  Jailbirds New Orleans              NaN   \n",
       "4      s5  TV Show           Kota Factory              NaN   \n",
       "\n",
       "                                                cast        country  \\\n",
       "0                                                NaN  United States   \n",
       "1  Ama Qamata, Khosi Ngema, Gail Mabalane, Thaban...   South Africa   \n",
       "2  Sami Bouajila, Tracy Gotoas, Samuel Jouy, Nabi...            NaN   \n",
       "3                                                NaN            NaN   \n",
       "4  Mayur More, Jitendra Kumar, Ranjan Raj, Alam K...          India   \n",
       "\n",
       "           date_added  release_year rating   duration  \\\n",
       "0  September 25, 2021          2020  PG-13     90 min   \n",
       "1  September 24, 2021          2021  TV-MA  2 Seasons   \n",
       "2  September 24, 2021          2021  TV-MA   1 Season   \n",
       "3  September 24, 2021          2021  TV-MA   1 Season   \n",
       "4  September 24, 2021          2021  TV-MA  2 Seasons   \n",
       "\n",
       "                                           listed_in  \\\n",
       "0                                      Documentaries   \n",
       "1    International TV Shows, TV Dramas, TV Mysteries   \n",
       "2  Crime TV Shows, International TV Shows, TV Act...   \n",
       "3                             Docuseries, Reality TV   \n",
       "4  International TV Shows, Romantic TV Shows, TV ...   \n",
       "\n",
       "                                         description  \n",
       "0  As her father nears the end of his life, filmm...  \n",
       "1  After crossing paths at a party, a Cape Town t...  \n",
       "2  To protect his family from a powerful drug lor...  \n",
       "3  Feuds, flirtations and toilet talk go down amo...  \n",
       "4  In a city of coaching centers known to train I...  "
      ]
     },
     "execution_count": 2,
     "metadata": {},
     "output_type": "execute_result"
    }
   ],
   "source": [
    "df = pd.read_csv(r\"..\\data\\netflix_titles.csv\")\n",
    "#df = pd.read_csv(r\"C:\\Users\\akki2\\OneDrive\\Documents\\Ironhack\\Week_5\\Mid_bootcamp_project\\data\\netflix_titles.csv\")\n",
    "df.head()"
   ]
  },
  {
   "cell_type": "code",
   "execution_count": 3,
   "id": "aee2e350",
   "metadata": {},
   "outputs": [
    {
     "name": "stdout",
     "output_type": "stream",
     "text": [
      "<class 'pandas.core.frame.DataFrame'>\n",
      "RangeIndex: 8807 entries, 0 to 8806\n",
      "Data columns (total 12 columns):\n",
      " #   Column        Non-Null Count  Dtype \n",
      "---  ------        --------------  ----- \n",
      " 0   show_id       8807 non-null   object\n",
      " 1   type          8807 non-null   object\n",
      " 2   title         8807 non-null   object\n",
      " 3   director      6173 non-null   object\n",
      " 4   cast          7982 non-null   object\n",
      " 5   country       7976 non-null   object\n",
      " 6   date_added    8797 non-null   object\n",
      " 7   release_year  8807 non-null   int64 \n",
      " 8   rating        8803 non-null   object\n",
      " 9   duration      8804 non-null   object\n",
      " 10  listed_in     8807 non-null   object\n",
      " 11  description   8807 non-null   object\n",
      "dtypes: int64(1), object(11)\n",
      "memory usage: 825.8+ KB\n"
     ]
    }
   ],
   "source": [
    "df.info()"
   ]
  },
  {
   "cell_type": "code",
   "execution_count": 4,
   "id": "9a3f4c23",
   "metadata": {},
   "outputs": [
    {
     "data": {
      "text/html": [
       "<div>\n",
       "<style scoped>\n",
       "    .dataframe tbody tr th:only-of-type {\n",
       "        vertical-align: middle;\n",
       "    }\n",
       "\n",
       "    .dataframe tbody tr th {\n",
       "        vertical-align: top;\n",
       "    }\n",
       "\n",
       "    .dataframe thead th {\n",
       "        text-align: right;\n",
       "    }\n",
       "</style>\n",
       "<table border=\"1\" class=\"dataframe\">\n",
       "  <thead>\n",
       "    <tr style=\"text-align: right;\">\n",
       "      <th></th>\n",
       "      <th>release_year</th>\n",
       "    </tr>\n",
       "  </thead>\n",
       "  <tbody>\n",
       "    <tr>\n",
       "      <th>count</th>\n",
       "      <td>8807.000000</td>\n",
       "    </tr>\n",
       "    <tr>\n",
       "      <th>mean</th>\n",
       "      <td>2014.180198</td>\n",
       "    </tr>\n",
       "    <tr>\n",
       "      <th>std</th>\n",
       "      <td>8.819312</td>\n",
       "    </tr>\n",
       "    <tr>\n",
       "      <th>min</th>\n",
       "      <td>1925.000000</td>\n",
       "    </tr>\n",
       "    <tr>\n",
       "      <th>25%</th>\n",
       "      <td>2013.000000</td>\n",
       "    </tr>\n",
       "    <tr>\n",
       "      <th>50%</th>\n",
       "      <td>2017.000000</td>\n",
       "    </tr>\n",
       "    <tr>\n",
       "      <th>75%</th>\n",
       "      <td>2019.000000</td>\n",
       "    </tr>\n",
       "    <tr>\n",
       "      <th>max</th>\n",
       "      <td>2021.000000</td>\n",
       "    </tr>\n",
       "  </tbody>\n",
       "</table>\n",
       "</div>"
      ],
      "text/plain": [
       "       release_year\n",
       "count   8807.000000\n",
       "mean    2014.180198\n",
       "std        8.819312\n",
       "min     1925.000000\n",
       "25%     2013.000000\n",
       "50%     2017.000000\n",
       "75%     2019.000000\n",
       "max     2021.000000"
      ]
     },
     "execution_count": 4,
     "metadata": {},
     "output_type": "execute_result"
    }
   ],
   "source": [
    "df.describe()"
   ]
  },
  {
   "cell_type": "code",
   "execution_count": 5,
   "id": "9accf1a5",
   "metadata": {},
   "outputs": [
    {
     "data": {
      "text/plain": [
       "(8807, 12)"
      ]
     },
     "execution_count": 5,
     "metadata": {},
     "output_type": "execute_result"
    }
   ],
   "source": [
    "df.shape"
   ]
  },
  {
   "cell_type": "code",
   "execution_count": 6,
   "id": "287b472d",
   "metadata": {},
   "outputs": [
    {
     "name": "stdout",
     "output_type": "stream",
     "text": [
      "['show_id', 'type', 'title', 'director', 'cast', 'country', 'date_added', 'release_year', 'rating', 'duration', 'listed_in', 'description']\n"
     ]
    }
   ],
   "source": [
    "print(df.columns.tolist())"
   ]
  },
  {
   "cell_type": "code",
   "execution_count": 7,
   "id": "8ea0d0d0",
   "metadata": {},
   "outputs": [
    {
     "data": {
      "text/plain": [
       "show_id            0\n",
       "type               0\n",
       "title              0\n",
       "director        2634\n",
       "cast             825\n",
       "country          831\n",
       "date_added        10\n",
       "release_year       0\n",
       "rating             4\n",
       "duration           3\n",
       "listed_in          0\n",
       "description        0\n",
       "dtype: int64"
      ]
     },
     "execution_count": 7,
     "metadata": {},
     "output_type": "execute_result"
    }
   ],
   "source": [
    "df.isna().sum()"
   ]
  },
  {
   "cell_type": "markdown",
   "id": "0a5c4133",
   "metadata": {},
   "source": [
    "#As we can see that there are NaN values in director, cast, country, date added, grade and duration.\n",
    "#The variables director,cast will be dumped because they will create further NaN values in other variabes if taken into consideration. \n",
    "#The main variable here is the country because that can give many other analysis. \n",
    "#The other variables we can get rid of the null variables in them. "
   ]
  },
  {
   "cell_type": "markdown",
   "id": "9334b5c9",
   "metadata": {},
   "source": [
    "#One more thing to consider is that listed_in is basically genre of the content and it needs to be split to show one genre per content.\n",
    "But when the genre has split using the lambda function it can create unwanted NaN values in country column but that can be managed. This can affect the overall efficieny of the model. "
   ]
  },
  {
   "cell_type": "code",
   "execution_count": 8,
   "id": "4200a17b",
   "metadata": {},
   "outputs": [],
   "source": [
    "#df['listed_in'] = df['listed_in'].apply(lambda x: x.split(\",\")[0])\n",
    "#df['listed_in'].head(10)"
   ]
  },
  {
   "cell_type": "code",
   "execution_count": 9,
   "id": "0ba782fa",
   "metadata": {},
   "outputs": [],
   "source": [
    "df['country'] = df['country'].fillna(df['country'].mode()[0])"
   ]
  },
  {
   "cell_type": "code",
   "execution_count": 10,
   "id": "028a46de",
   "metadata": {},
   "outputs": [],
   "source": [
    "#df['director'] = df['director'].fillna('NoData')"
   ]
  },
  {
   "cell_type": "code",
   "execution_count": 11,
   "id": "04327e5c",
   "metadata": {},
   "outputs": [],
   "source": [
    "#df['cast'] = df['cast'].fillna('NoData')"
   ]
  },
  {
   "cell_type": "code",
   "execution_count": 12,
   "id": "af53d100",
   "metadata": {},
   "outputs": [],
   "source": [
    "df.drop(['cast','director'],axis='columns',inplace=True)"
   ]
  },
  {
   "cell_type": "code",
   "execution_count": 13,
   "id": "00a7099a",
   "metadata": {},
   "outputs": [],
   "source": [
    "df['date_added'] = df['date_added'].fillna(df['date_added'].mode()[0])"
   ]
  },
  {
   "cell_type": "code",
   "execution_count": 14,
   "id": "f611e5f5",
   "metadata": {},
   "outputs": [],
   "source": [
    "df['rating'] = df['rating'].fillna(df['rating'].mode()[0])"
   ]
  },
  {
   "cell_type": "code",
   "execution_count": 15,
   "id": "6805076e",
   "metadata": {},
   "outputs": [
    {
     "data": {
      "text/plain": [
       "show_id         0\n",
       "type            0\n",
       "title           0\n",
       "country         0\n",
       "date_added      0\n",
       "release_year    0\n",
       "rating          0\n",
       "duration        3\n",
       "listed_in       0\n",
       "description     0\n",
       "dtype: int64"
      ]
     },
     "execution_count": 15,
     "metadata": {},
     "output_type": "execute_result"
    }
   ],
   "source": [
    "df.isna().sum()"
   ]
  },
  {
   "cell_type": "code",
   "execution_count": 16,
   "id": "80079a5b",
   "metadata": {},
   "outputs": [],
   "source": [
    "df = df.dropna( how='any',subset=['duration'])"
   ]
  },
  {
   "cell_type": "code",
   "execution_count": 17,
   "id": "c82cf312",
   "metadata": {},
   "outputs": [
    {
     "data": {
      "text/plain": [
       "show_id         0\n",
       "type            0\n",
       "title           0\n",
       "country         0\n",
       "date_added      0\n",
       "release_year    0\n",
       "rating          0\n",
       "duration        0\n",
       "listed_in       0\n",
       "description     0\n",
       "dtype: int64"
      ]
     },
     "execution_count": 17,
     "metadata": {},
     "output_type": "execute_result"
    }
   ],
   "source": [
    "df.isna().sum()"
   ]
  },
  {
   "cell_type": "code",
   "execution_count": 18,
   "id": "0441bf77",
   "metadata": {},
   "outputs": [
    {
     "data": {
      "text/plain": [
       "0"
      ]
     },
     "execution_count": 18,
     "metadata": {},
     "output_type": "execute_result"
    }
   ],
   "source": [
    "df.duplicated().sum()"
   ]
  },
  {
   "cell_type": "markdown",
   "id": "a591b578",
   "metadata": {},
   "source": [
    "# Adding few columns for better understanding the column 'rating'"
   ]
  },
  {
   "cell_type": "code",
   "execution_count": 19,
   "id": "aa02bbea",
   "metadata": {},
   "outputs": [],
   "source": [
    "df['date_added']= pd.to_datetime(df['date_added'])"
   ]
  },
  {
   "cell_type": "code",
   "execution_count": 20,
   "id": "36906109",
   "metadata": {},
   "outputs": [
    {
     "data": {
      "text/plain": [
       "show_id                 object\n",
       "type                    object\n",
       "title                   object\n",
       "country                 object\n",
       "date_added      datetime64[ns]\n",
       "release_year             int64\n",
       "rating                  object\n",
       "duration                object\n",
       "listed_in               object\n",
       "description             object\n",
       "dtype: object"
      ]
     },
     "execution_count": 20,
     "metadata": {},
     "output_type": "execute_result"
    }
   ],
   "source": [
    "df.dtypes"
   ]
  },
  {
   "cell_type": "code",
   "execution_count": 21,
   "id": "d747ecf3",
   "metadata": {},
   "outputs": [
    {
     "data": {
      "text/html": [
       "<div>\n",
       "<style scoped>\n",
       "    .dataframe tbody tr th:only-of-type {\n",
       "        vertical-align: middle;\n",
       "    }\n",
       "\n",
       "    .dataframe tbody tr th {\n",
       "        vertical-align: top;\n",
       "    }\n",
       "\n",
       "    .dataframe thead th {\n",
       "        text-align: right;\n",
       "    }\n",
       "</style>\n",
       "<table border=\"1\" class=\"dataframe\">\n",
       "  <thead>\n",
       "    <tr style=\"text-align: right;\">\n",
       "      <th></th>\n",
       "      <th>show_id</th>\n",
       "      <th>type</th>\n",
       "      <th>title</th>\n",
       "      <th>country</th>\n",
       "      <th>date_added</th>\n",
       "      <th>release_year</th>\n",
       "      <th>rating</th>\n",
       "      <th>duration</th>\n",
       "      <th>listed_in</th>\n",
       "      <th>description</th>\n",
       "    </tr>\n",
       "  </thead>\n",
       "  <tbody>\n",
       "    <tr>\n",
       "      <th>0</th>\n",
       "      <td>s1</td>\n",
       "      <td>Movie</td>\n",
       "      <td>Dick Johnson Is Dead</td>\n",
       "      <td>United States</td>\n",
       "      <td>2021-09-25</td>\n",
       "      <td>2020</td>\n",
       "      <td>PG-13</td>\n",
       "      <td>90 min</td>\n",
       "      <td>Documentaries</td>\n",
       "      <td>As her father nears the end of his life, filmm...</td>\n",
       "    </tr>\n",
       "    <tr>\n",
       "      <th>1</th>\n",
       "      <td>s2</td>\n",
       "      <td>TV Show</td>\n",
       "      <td>Blood &amp; Water</td>\n",
       "      <td>South Africa</td>\n",
       "      <td>2021-09-24</td>\n",
       "      <td>2021</td>\n",
       "      <td>TV-MA</td>\n",
       "      <td>2 Seasons</td>\n",
       "      <td>International TV Shows, TV Dramas, TV Mysteries</td>\n",
       "      <td>After crossing paths at a party, a Cape Town t...</td>\n",
       "    </tr>\n",
       "    <tr>\n",
       "      <th>2</th>\n",
       "      <td>s3</td>\n",
       "      <td>TV Show</td>\n",
       "      <td>Ganglands</td>\n",
       "      <td>United States</td>\n",
       "      <td>2021-09-24</td>\n",
       "      <td>2021</td>\n",
       "      <td>TV-MA</td>\n",
       "      <td>1 Season</td>\n",
       "      <td>Crime TV Shows, International TV Shows, TV Act...</td>\n",
       "      <td>To protect his family from a powerful drug lor...</td>\n",
       "    </tr>\n",
       "    <tr>\n",
       "      <th>3</th>\n",
       "      <td>s4</td>\n",
       "      <td>TV Show</td>\n",
       "      <td>Jailbirds New Orleans</td>\n",
       "      <td>United States</td>\n",
       "      <td>2021-09-24</td>\n",
       "      <td>2021</td>\n",
       "      <td>TV-MA</td>\n",
       "      <td>1 Season</td>\n",
       "      <td>Docuseries, Reality TV</td>\n",
       "      <td>Feuds, flirtations and toilet talk go down amo...</td>\n",
       "    </tr>\n",
       "    <tr>\n",
       "      <th>4</th>\n",
       "      <td>s5</td>\n",
       "      <td>TV Show</td>\n",
       "      <td>Kota Factory</td>\n",
       "      <td>India</td>\n",
       "      <td>2021-09-24</td>\n",
       "      <td>2021</td>\n",
       "      <td>TV-MA</td>\n",
       "      <td>2 Seasons</td>\n",
       "      <td>International TV Shows, Romantic TV Shows, TV ...</td>\n",
       "      <td>In a city of coaching centers known to train I...</td>\n",
       "    </tr>\n",
       "    <tr>\n",
       "      <th>...</th>\n",
       "      <td>...</td>\n",
       "      <td>...</td>\n",
       "      <td>...</td>\n",
       "      <td>...</td>\n",
       "      <td>...</td>\n",
       "      <td>...</td>\n",
       "      <td>...</td>\n",
       "      <td>...</td>\n",
       "      <td>...</td>\n",
       "      <td>...</td>\n",
       "    </tr>\n",
       "    <tr>\n",
       "      <th>8802</th>\n",
       "      <td>s8803</td>\n",
       "      <td>Movie</td>\n",
       "      <td>Zodiac</td>\n",
       "      <td>United States</td>\n",
       "      <td>2019-11-20</td>\n",
       "      <td>2007</td>\n",
       "      <td>R</td>\n",
       "      <td>158 min</td>\n",
       "      <td>Cult Movies, Dramas, Thrillers</td>\n",
       "      <td>A political cartoonist, a crime reporter and a...</td>\n",
       "    </tr>\n",
       "    <tr>\n",
       "      <th>8803</th>\n",
       "      <td>s8804</td>\n",
       "      <td>TV Show</td>\n",
       "      <td>Zombie Dumb</td>\n",
       "      <td>United States</td>\n",
       "      <td>2019-07-01</td>\n",
       "      <td>2018</td>\n",
       "      <td>TV-Y7</td>\n",
       "      <td>2 Seasons</td>\n",
       "      <td>Kids' TV, Korean TV Shows, TV Comedies</td>\n",
       "      <td>While living alone in a spooky town, a young g...</td>\n",
       "    </tr>\n",
       "    <tr>\n",
       "      <th>8804</th>\n",
       "      <td>s8805</td>\n",
       "      <td>Movie</td>\n",
       "      <td>Zombieland</td>\n",
       "      <td>United States</td>\n",
       "      <td>2019-11-01</td>\n",
       "      <td>2009</td>\n",
       "      <td>R</td>\n",
       "      <td>88 min</td>\n",
       "      <td>Comedies, Horror Movies</td>\n",
       "      <td>Looking to survive in a world taken over by zo...</td>\n",
       "    </tr>\n",
       "    <tr>\n",
       "      <th>8805</th>\n",
       "      <td>s8806</td>\n",
       "      <td>Movie</td>\n",
       "      <td>Zoom</td>\n",
       "      <td>United States</td>\n",
       "      <td>2020-01-11</td>\n",
       "      <td>2006</td>\n",
       "      <td>PG</td>\n",
       "      <td>88 min</td>\n",
       "      <td>Children &amp; Family Movies, Comedies</td>\n",
       "      <td>Dragged from civilian life, a former superhero...</td>\n",
       "    </tr>\n",
       "    <tr>\n",
       "      <th>8806</th>\n",
       "      <td>s8807</td>\n",
       "      <td>Movie</td>\n",
       "      <td>Zubaan</td>\n",
       "      <td>India</td>\n",
       "      <td>2019-03-02</td>\n",
       "      <td>2015</td>\n",
       "      <td>TV-14</td>\n",
       "      <td>111 min</td>\n",
       "      <td>Dramas, International Movies, Music &amp; Musicals</td>\n",
       "      <td>A scrappy but poor boy worms his way into a ty...</td>\n",
       "    </tr>\n",
       "  </tbody>\n",
       "</table>\n",
       "<p>8804 rows × 10 columns</p>\n",
       "</div>"
      ],
      "text/plain": [
       "     show_id     type                  title        country date_added  \\\n",
       "0         s1    Movie   Dick Johnson Is Dead  United States 2021-09-25   \n",
       "1         s2  TV Show          Blood & Water   South Africa 2021-09-24   \n",
       "2         s3  TV Show              Ganglands  United States 2021-09-24   \n",
       "3         s4  TV Show  Jailbirds New Orleans  United States 2021-09-24   \n",
       "4         s5  TV Show           Kota Factory          India 2021-09-24   \n",
       "...      ...      ...                    ...            ...        ...   \n",
       "8802   s8803    Movie                 Zodiac  United States 2019-11-20   \n",
       "8803   s8804  TV Show            Zombie Dumb  United States 2019-07-01   \n",
       "8804   s8805    Movie             Zombieland  United States 2019-11-01   \n",
       "8805   s8806    Movie                   Zoom  United States 2020-01-11   \n",
       "8806   s8807    Movie                 Zubaan          India 2019-03-02   \n",
       "\n",
       "      release_year rating   duration  \\\n",
       "0             2020  PG-13     90 min   \n",
       "1             2021  TV-MA  2 Seasons   \n",
       "2             2021  TV-MA   1 Season   \n",
       "3             2021  TV-MA   1 Season   \n",
       "4             2021  TV-MA  2 Seasons   \n",
       "...            ...    ...        ...   \n",
       "8802          2007      R    158 min   \n",
       "8803          2018  TV-Y7  2 Seasons   \n",
       "8804          2009      R     88 min   \n",
       "8805          2006     PG     88 min   \n",
       "8806          2015  TV-14    111 min   \n",
       "\n",
       "                                              listed_in  \\\n",
       "0                                         Documentaries   \n",
       "1       International TV Shows, TV Dramas, TV Mysteries   \n",
       "2     Crime TV Shows, International TV Shows, TV Act...   \n",
       "3                                Docuseries, Reality TV   \n",
       "4     International TV Shows, Romantic TV Shows, TV ...   \n",
       "...                                                 ...   \n",
       "8802                     Cult Movies, Dramas, Thrillers   \n",
       "8803             Kids' TV, Korean TV Shows, TV Comedies   \n",
       "8804                            Comedies, Horror Movies   \n",
       "8805                 Children & Family Movies, Comedies   \n",
       "8806     Dramas, International Movies, Music & Musicals   \n",
       "\n",
       "                                            description  \n",
       "0     As her father nears the end of his life, filmm...  \n",
       "1     After crossing paths at a party, a Cape Town t...  \n",
       "2     To protect his family from a powerful drug lor...  \n",
       "3     Feuds, flirtations and toilet talk go down amo...  \n",
       "4     In a city of coaching centers known to train I...  \n",
       "...                                                 ...  \n",
       "8802  A political cartoonist, a crime reporter and a...  \n",
       "8803  While living alone in a spooky town, a young g...  \n",
       "8804  Looking to survive in a world taken over by zo...  \n",
       "8805  Dragged from civilian life, a former superhero...  \n",
       "8806  A scrappy but poor boy worms his way into a ty...  \n",
       "\n",
       "[8804 rows x 10 columns]"
      ]
     },
     "execution_count": 21,
     "metadata": {},
     "output_type": "execute_result"
    }
   ],
   "source": [
    "df"
   ]
  },
  {
   "cell_type": "code",
   "execution_count": 22,
   "id": "76bfef2f",
   "metadata": {},
   "outputs": [],
   "source": [
    "#df['year'] = pd.DatetimeIndex(df['date_added']).year\n",
    "#df['month'] = pd.DatetimeIndex(df['date_added']).month\n",
    "df['year'] = df['date_added'].dt.year\n",
    "df['month'] = df['date_added'].dt.month"
   ]
  },
  {
   "cell_type": "code",
   "execution_count": 23,
   "id": "f28de734",
   "metadata": {},
   "outputs": [
    {
     "data": {
      "text/html": [
       "<div>\n",
       "<style scoped>\n",
       "    .dataframe tbody tr th:only-of-type {\n",
       "        vertical-align: middle;\n",
       "    }\n",
       "\n",
       "    .dataframe tbody tr th {\n",
       "        vertical-align: top;\n",
       "    }\n",
       "\n",
       "    .dataframe thead th {\n",
       "        text-align: right;\n",
       "    }\n",
       "</style>\n",
       "<table border=\"1\" class=\"dataframe\">\n",
       "  <thead>\n",
       "    <tr style=\"text-align: right;\">\n",
       "      <th></th>\n",
       "      <th>show_id</th>\n",
       "      <th>type</th>\n",
       "      <th>title</th>\n",
       "      <th>country</th>\n",
       "      <th>date_added</th>\n",
       "      <th>release_year</th>\n",
       "      <th>rating</th>\n",
       "      <th>duration</th>\n",
       "      <th>listed_in</th>\n",
       "      <th>description</th>\n",
       "      <th>year</th>\n",
       "      <th>month</th>\n",
       "    </tr>\n",
       "  </thead>\n",
       "  <tbody>\n",
       "    <tr>\n",
       "      <th>0</th>\n",
       "      <td>s1</td>\n",
       "      <td>Movie</td>\n",
       "      <td>Dick Johnson Is Dead</td>\n",
       "      <td>United States</td>\n",
       "      <td>2021-09-25</td>\n",
       "      <td>2020</td>\n",
       "      <td>PG-13</td>\n",
       "      <td>90 min</td>\n",
       "      <td>Documentaries</td>\n",
       "      <td>As her father nears the end of his life, filmm...</td>\n",
       "      <td>2021</td>\n",
       "      <td>9</td>\n",
       "    </tr>\n",
       "    <tr>\n",
       "      <th>1</th>\n",
       "      <td>s2</td>\n",
       "      <td>TV Show</td>\n",
       "      <td>Blood &amp; Water</td>\n",
       "      <td>South Africa</td>\n",
       "      <td>2021-09-24</td>\n",
       "      <td>2021</td>\n",
       "      <td>TV-MA</td>\n",
       "      <td>2 Seasons</td>\n",
       "      <td>International TV Shows, TV Dramas, TV Mysteries</td>\n",
       "      <td>After crossing paths at a party, a Cape Town t...</td>\n",
       "      <td>2021</td>\n",
       "      <td>9</td>\n",
       "    </tr>\n",
       "    <tr>\n",
       "      <th>2</th>\n",
       "      <td>s3</td>\n",
       "      <td>TV Show</td>\n",
       "      <td>Ganglands</td>\n",
       "      <td>United States</td>\n",
       "      <td>2021-09-24</td>\n",
       "      <td>2021</td>\n",
       "      <td>TV-MA</td>\n",
       "      <td>1 Season</td>\n",
       "      <td>Crime TV Shows, International TV Shows, TV Act...</td>\n",
       "      <td>To protect his family from a powerful drug lor...</td>\n",
       "      <td>2021</td>\n",
       "      <td>9</td>\n",
       "    </tr>\n",
       "    <tr>\n",
       "      <th>3</th>\n",
       "      <td>s4</td>\n",
       "      <td>TV Show</td>\n",
       "      <td>Jailbirds New Orleans</td>\n",
       "      <td>United States</td>\n",
       "      <td>2021-09-24</td>\n",
       "      <td>2021</td>\n",
       "      <td>TV-MA</td>\n",
       "      <td>1 Season</td>\n",
       "      <td>Docuseries, Reality TV</td>\n",
       "      <td>Feuds, flirtations and toilet talk go down amo...</td>\n",
       "      <td>2021</td>\n",
       "      <td>9</td>\n",
       "    </tr>\n",
       "    <tr>\n",
       "      <th>4</th>\n",
       "      <td>s5</td>\n",
       "      <td>TV Show</td>\n",
       "      <td>Kota Factory</td>\n",
       "      <td>India</td>\n",
       "      <td>2021-09-24</td>\n",
       "      <td>2021</td>\n",
       "      <td>TV-MA</td>\n",
       "      <td>2 Seasons</td>\n",
       "      <td>International TV Shows, Romantic TV Shows, TV ...</td>\n",
       "      <td>In a city of coaching centers known to train I...</td>\n",
       "      <td>2021</td>\n",
       "      <td>9</td>\n",
       "    </tr>\n",
       "    <tr>\n",
       "      <th>...</th>\n",
       "      <td>...</td>\n",
       "      <td>...</td>\n",
       "      <td>...</td>\n",
       "      <td>...</td>\n",
       "      <td>...</td>\n",
       "      <td>...</td>\n",
       "      <td>...</td>\n",
       "      <td>...</td>\n",
       "      <td>...</td>\n",
       "      <td>...</td>\n",
       "      <td>...</td>\n",
       "      <td>...</td>\n",
       "    </tr>\n",
       "    <tr>\n",
       "      <th>8802</th>\n",
       "      <td>s8803</td>\n",
       "      <td>Movie</td>\n",
       "      <td>Zodiac</td>\n",
       "      <td>United States</td>\n",
       "      <td>2019-11-20</td>\n",
       "      <td>2007</td>\n",
       "      <td>R</td>\n",
       "      <td>158 min</td>\n",
       "      <td>Cult Movies, Dramas, Thrillers</td>\n",
       "      <td>A political cartoonist, a crime reporter and a...</td>\n",
       "      <td>2019</td>\n",
       "      <td>11</td>\n",
       "    </tr>\n",
       "    <tr>\n",
       "      <th>8803</th>\n",
       "      <td>s8804</td>\n",
       "      <td>TV Show</td>\n",
       "      <td>Zombie Dumb</td>\n",
       "      <td>United States</td>\n",
       "      <td>2019-07-01</td>\n",
       "      <td>2018</td>\n",
       "      <td>TV-Y7</td>\n",
       "      <td>2 Seasons</td>\n",
       "      <td>Kids' TV, Korean TV Shows, TV Comedies</td>\n",
       "      <td>While living alone in a spooky town, a young g...</td>\n",
       "      <td>2019</td>\n",
       "      <td>7</td>\n",
       "    </tr>\n",
       "    <tr>\n",
       "      <th>8804</th>\n",
       "      <td>s8805</td>\n",
       "      <td>Movie</td>\n",
       "      <td>Zombieland</td>\n",
       "      <td>United States</td>\n",
       "      <td>2019-11-01</td>\n",
       "      <td>2009</td>\n",
       "      <td>R</td>\n",
       "      <td>88 min</td>\n",
       "      <td>Comedies, Horror Movies</td>\n",
       "      <td>Looking to survive in a world taken over by zo...</td>\n",
       "      <td>2019</td>\n",
       "      <td>11</td>\n",
       "    </tr>\n",
       "    <tr>\n",
       "      <th>8805</th>\n",
       "      <td>s8806</td>\n",
       "      <td>Movie</td>\n",
       "      <td>Zoom</td>\n",
       "      <td>United States</td>\n",
       "      <td>2020-01-11</td>\n",
       "      <td>2006</td>\n",
       "      <td>PG</td>\n",
       "      <td>88 min</td>\n",
       "      <td>Children &amp; Family Movies, Comedies</td>\n",
       "      <td>Dragged from civilian life, a former superhero...</td>\n",
       "      <td>2020</td>\n",
       "      <td>1</td>\n",
       "    </tr>\n",
       "    <tr>\n",
       "      <th>8806</th>\n",
       "      <td>s8807</td>\n",
       "      <td>Movie</td>\n",
       "      <td>Zubaan</td>\n",
       "      <td>India</td>\n",
       "      <td>2019-03-02</td>\n",
       "      <td>2015</td>\n",
       "      <td>TV-14</td>\n",
       "      <td>111 min</td>\n",
       "      <td>Dramas, International Movies, Music &amp; Musicals</td>\n",
       "      <td>A scrappy but poor boy worms his way into a ty...</td>\n",
       "      <td>2019</td>\n",
       "      <td>3</td>\n",
       "    </tr>\n",
       "  </tbody>\n",
       "</table>\n",
       "<p>8804 rows × 12 columns</p>\n",
       "</div>"
      ],
      "text/plain": [
       "     show_id     type                  title        country date_added  \\\n",
       "0         s1    Movie   Dick Johnson Is Dead  United States 2021-09-25   \n",
       "1         s2  TV Show          Blood & Water   South Africa 2021-09-24   \n",
       "2         s3  TV Show              Ganglands  United States 2021-09-24   \n",
       "3         s4  TV Show  Jailbirds New Orleans  United States 2021-09-24   \n",
       "4         s5  TV Show           Kota Factory          India 2021-09-24   \n",
       "...      ...      ...                    ...            ...        ...   \n",
       "8802   s8803    Movie                 Zodiac  United States 2019-11-20   \n",
       "8803   s8804  TV Show            Zombie Dumb  United States 2019-07-01   \n",
       "8804   s8805    Movie             Zombieland  United States 2019-11-01   \n",
       "8805   s8806    Movie                   Zoom  United States 2020-01-11   \n",
       "8806   s8807    Movie                 Zubaan          India 2019-03-02   \n",
       "\n",
       "      release_year rating   duration  \\\n",
       "0             2020  PG-13     90 min   \n",
       "1             2021  TV-MA  2 Seasons   \n",
       "2             2021  TV-MA   1 Season   \n",
       "3             2021  TV-MA   1 Season   \n",
       "4             2021  TV-MA  2 Seasons   \n",
       "...            ...    ...        ...   \n",
       "8802          2007      R    158 min   \n",
       "8803          2018  TV-Y7  2 Seasons   \n",
       "8804          2009      R     88 min   \n",
       "8805          2006     PG     88 min   \n",
       "8806          2015  TV-14    111 min   \n",
       "\n",
       "                                              listed_in  \\\n",
       "0                                         Documentaries   \n",
       "1       International TV Shows, TV Dramas, TV Mysteries   \n",
       "2     Crime TV Shows, International TV Shows, TV Act...   \n",
       "3                                Docuseries, Reality TV   \n",
       "4     International TV Shows, Romantic TV Shows, TV ...   \n",
       "...                                                 ...   \n",
       "8802                     Cult Movies, Dramas, Thrillers   \n",
       "8803             Kids' TV, Korean TV Shows, TV Comedies   \n",
       "8804                            Comedies, Horror Movies   \n",
       "8805                 Children & Family Movies, Comedies   \n",
       "8806     Dramas, International Movies, Music & Musicals   \n",
       "\n",
       "                                            description  year  month  \n",
       "0     As her father nears the end of his life, filmm...  2021      9  \n",
       "1     After crossing paths at a party, a Cape Town t...  2021      9  \n",
       "2     To protect his family from a powerful drug lor...  2021      9  \n",
       "3     Feuds, flirtations and toilet talk go down amo...  2021      9  \n",
       "4     In a city of coaching centers known to train I...  2021      9  \n",
       "...                                                 ...   ...    ...  \n",
       "8802  A political cartoonist, a crime reporter and a...  2019     11  \n",
       "8803  While living alone in a spooky town, a young g...  2019      7  \n",
       "8804  Looking to survive in a world taken over by zo...  2019     11  \n",
       "8805  Dragged from civilian life, a former superhero...  2020      1  \n",
       "8806  A scrappy but poor boy worms his way into a ty...  2019      3  \n",
       "\n",
       "[8804 rows x 12 columns]"
      ]
     },
     "execution_count": 23,
     "metadata": {},
     "output_type": "execute_result"
    }
   ],
   "source": [
    "df"
   ]
  },
  {
   "cell_type": "markdown",
   "id": "9a823ae3",
   "metadata": {},
   "source": [
    "# ratio of movies vs TV_Shows"
   ]
  },
  {
   "cell_type": "code",
   "execution_count": 24,
   "id": "89afa5ac",
   "metadata": {},
   "outputs": [
    {
     "data": {
      "text/plain": [
       "Text(0.5, 1.0, 'Ratio of Movie/TV Show')"
      ]
     },
     "execution_count": 24,
     "metadata": {},
     "output_type": "execute_result"
    },
    {
     "data": {
      "image/png": "[encoded data removed]",
      "text/plain": [
       "<Figure size 432x288 with 1 Axes>"
      ]
     },
     "metadata": {},
     "output_type": "display_data"
    }
   ],
   "source": [
    "plt.pie(df['type'].value_counts(), labels = df['type'].value_counts().index, autopct=\"%.1f%%\")\n",
    "plt.title('Ratio of Movie/TV Show')"
   ]
  },
  {
   "cell_type": "markdown",
   "id": "ec636bab",
   "metadata": {},
   "source": [
    "Clearly, Netflix has more number of movies than TV-Shows"
   ]
  },
  {
   "cell_type": "code",
   "execution_count": 25,
   "id": "315efb10",
   "metadata": {},
   "outputs": [],
   "source": [
    "ratings_ages = {\n",
    "    'TV-PG': 'Older Kids',\n",
    "    'TV-MA': 'Adults',\n",
    "    'TV-Y7-FV': 'Older Kids',\n",
    "    'TV-Y7': 'Older Kids',\n",
    "    'TV-14': 'Teens',\n",
    "    'R': 'Adults',\n",
    "    'TV-Y': 'Kids',\n",
    "    'NR': 'Adults',\n",
    "    'PG-13': 'Teens',\n",
    "    'TV-G': 'Kids',\n",
    "    'PG': 'Older Kids',\n",
    "    'G': 'Kids',\n",
    "    'UR': 'Adults',\n",
    "    'NC-17': 'Adults'\n",
    "}\n",
    "\n",
    "df['rating'] = df['rating'].replace(ratings_ages)\n"
   ]
  },
  {
   "cell_type": "code",
   "execution_count": 26,
   "id": "333cfe32",
   "metadata": {},
   "outputs": [
    {
     "data": {
      "image/png": "[encoded data removed]",
      "text/plain": [
       "<Figure size 432x288 with 1 Axes>"
      ]
     },
     "metadata": {
      "needs_background": "light"
     },
     "output_type": "display_data"
    }
   ],
   "source": [
    "sns.countplot(data=df , y='rating' , hue = 'type')\n",
    "plt.show()"
   ]
  },
  {
   "cell_type": "markdown",
   "id": "778d991b",
   "metadata": {},
   "source": [
    "Converted the ages ratings into readable data and it shows Netflix has high numbers of Adult rating movies and TV-Shows."
   ]
  },
  {
   "cell_type": "code",
   "execution_count": 27,
   "id": "78997b91",
   "metadata": {},
   "outputs": [
    {
     "data": {
      "text/plain": [
       "<Figure size 1440x1080 with 0 Axes>"
      ]
     },
     "execution_count": 27,
     "metadata": {},
     "output_type": "execute_result"
    },
    {
     "data": {
      "image/png": "[encoded data removed]",
      "text/plain": [
       "<Figure size 432x288 with 1 Axes>"
      ]
     },
     "metadata": {
      "needs_background": "light"
     },
     "output_type": "display_data"
    },
    {
     "data": {
      "text/plain": [
       "<Figure size 1440x1080 with 0 Axes>"
      ]
     },
     "metadata": {},
     "output_type": "display_data"
    }
   ],
   "source": [
    "sns.countplot(data=df , y='year' , hue = 'type')\n",
    "plt.figure(figsize=(20,15))"
   ]
  },
  {
   "cell_type": "markdown",
   "id": "6a503c11",
   "metadata": {},
   "source": [
    "Over here wanted to see how many movies and TV-Shows were available in the following years mentioned. Please this is not the release_year of the content but when they were added. "
   ]
  },
  {
   "cell_type": "code",
   "execution_count": 28,
   "id": "80a5ed83",
   "metadata": {},
   "outputs": [
    {
     "data": {
      "text/plain": [
       "<Figure size 1440x1080 with 0 Axes>"
      ]
     },
     "execution_count": 28,
     "metadata": {},
     "output_type": "execute_result"
    },
    {
     "data": {
      "image/png": "[encoded data removed]",
      "text/plain": [
       "<Figure size 432x288 with 1 Axes>"
      ]
     },
     "metadata": {
      "needs_background": "light"
     },
     "output_type": "display_data"
    },
    {
     "data": {
      "text/plain": [
       "<Figure size 1440x1080 with 0 Axes>"
      ]
     },
     "metadata": {},
     "output_type": "display_data"
    }
   ],
   "source": [
    "sns.countplot(data=df , y='month' , hue = 'type')\n",
    "plt.figure(figsize=(20,15))"
   ]
  },
  {
   "cell_type": "markdown",
   "id": "4fcb16f7",
   "metadata": {},
   "source": [
    "We can see that year 2019 was the year with the highest amount of movies but 2020 was the year with the highest number of TV-Serials.\n",
    "Also, we can see each month number of movies is higher than TV-Serials"
   ]
  },
  {
   "cell_type": "markdown",
   "id": "7eaad563",
   "metadata": {},
   "source": [
    "# Understanding which countries have most content released."
   ]
  },
  {
   "cell_type": "code",
   "execution_count": 29,
   "id": "23ba8e8f",
   "metadata": {},
   "outputs": [
    {
     "data": {
      "text/plain": [
       "<AxesSubplot:xlabel='country', ylabel='count'>"
      ]
     },
     "execution_count": 29,
     "metadata": {},
     "output_type": "execute_result"
    },
    {
     "data": {
      "image/png": "[encoded data removed]",
      "text/plain": [
       "<Figure size 1080x576 with 1 Axes>"
      ]
     },
     "metadata": {
      "needs_background": "light"
     },
     "output_type": "display_data"
    }
   ],
   "source": [
    "plt.figure(figsize=(15,8))\n",
    "sns.countplot(x=\"country\", data=df, order=df['country'].value_counts().index[0:15])"
   ]
  },
  {
   "cell_type": "markdown",
   "id": "1258ecd2",
   "metadata": {},
   "source": [
    "# Understanding the yearly analysis of the content of Netflix "
   ]
  },
  {
   "cell_type": "code",
   "execution_count": 30,
   "id": "d4d51226",
   "metadata": {},
   "outputs": [
    {
     "data": {
      "text/plain": [
       "<AxesSubplot:xlabel='count', ylabel='release_year'>"
      ]
     },
     "execution_count": 30,
     "metadata": {},
     "output_type": "execute_result"
    },
    {
     "data": {
      "image/png": "[encoded data removed]",
      "text/plain": [
       "<Figure size 1008x864 with 1 Axes>"
      ]
     },
     "metadata": {
      "needs_background": "light"
     },
     "output_type": "display_data"
    }
   ],
   "source": [
    "plt.figure(figsize=(14,12))\n",
    "sns.countplot(y=\"release_year\",data = df, order= df['release_year'].value_counts().index[0:10],hue =df['type'])"
   ]
  },
  {
   "cell_type": "markdown",
   "id": "1e5ab1e0",
   "metadata": {},
   "source": [
    "# Understanding what content is available in different countries."
   ]
  },
  {
   "cell_type": "markdown",
   "id": "04e2ef91",
   "metadata": {},
   "source": [
    "Applying another filter here to get one genre per content category.  "
   ]
  },
  {
   "cell_type": "code",
   "execution_count": 31,
   "id": "98b78c02",
   "metadata": {},
   "outputs": [
    {
     "data": {
      "text/plain": [
       "0               Documentaries\n",
       "1      International TV Shows\n",
       "2              Crime TV Shows\n",
       "3                  Docuseries\n",
       "4      International TV Shows\n",
       "5                   TV Dramas\n",
       "6    Children & Family Movies\n",
       "7                      Dramas\n",
       "8            British TV Shows\n",
       "9                    Comedies\n",
       "Name: listed_in, dtype: object"
      ]
     },
     "execution_count": 31,
     "metadata": {},
     "output_type": "execute_result"
    }
   ],
   "source": [
    "df['listed_in'] = df['listed_in'].apply(lambda x: x.split(\",\")[0])\n",
    "df['listed_in'].head(10)"
   ]
  },
  {
   "cell_type": "code",
   "execution_count": 32,
   "id": "d79e6d8a",
   "metadata": {},
   "outputs": [
    {
     "data": {
      "text/html": [
       "<div>\n",
       "<style scoped>\n",
       "    .dataframe tbody tr th:only-of-type {\n",
       "        vertical-align: middle;\n",
       "    }\n",
       "\n",
       "    .dataframe tbody tr th {\n",
       "        vertical-align: top;\n",
       "    }\n",
       "\n",
       "    .dataframe thead th {\n",
       "        text-align: right;\n",
       "    }\n",
       "</style>\n",
       "<table border=\"1\" class=\"dataframe\">\n",
       "  <thead>\n",
       "    <tr style=\"text-align: right;\">\n",
       "      <th></th>\n",
       "      <th>listed_in</th>\n",
       "      <th>country</th>\n",
       "    </tr>\n",
       "  </thead>\n",
       "  <tbody>\n",
       "    <tr>\n",
       "      <th>0</th>\n",
       "      <td>Documentaries</td>\n",
       "      <td>United States</td>\n",
       "    </tr>\n",
       "    <tr>\n",
       "      <th>1</th>\n",
       "      <td>International TV Shows</td>\n",
       "      <td>South Africa</td>\n",
       "    </tr>\n",
       "    <tr>\n",
       "      <th>2</th>\n",
       "      <td>Crime TV Shows</td>\n",
       "      <td>United States</td>\n",
       "    </tr>\n",
       "    <tr>\n",
       "      <th>3</th>\n",
       "      <td>Docuseries</td>\n",
       "      <td>United States</td>\n",
       "    </tr>\n",
       "    <tr>\n",
       "      <th>4</th>\n",
       "      <td>International TV Shows</td>\n",
       "      <td>India</td>\n",
       "    </tr>\n",
       "    <tr>\n",
       "      <th>5</th>\n",
       "      <td>TV Dramas</td>\n",
       "      <td>United States</td>\n",
       "    </tr>\n",
       "    <tr>\n",
       "      <th>6</th>\n",
       "      <td>Children &amp; Family Movies</td>\n",
       "      <td>United States</td>\n",
       "    </tr>\n",
       "    <tr>\n",
       "      <th>7</th>\n",
       "      <td>Dramas</td>\n",
       "      <td>United States, Ghana, Burkina Faso, United Kin...</td>\n",
       "    </tr>\n",
       "    <tr>\n",
       "      <th>8</th>\n",
       "      <td>British TV Shows</td>\n",
       "      <td>United Kingdom</td>\n",
       "    </tr>\n",
       "    <tr>\n",
       "      <th>9</th>\n",
       "      <td>Comedies</td>\n",
       "      <td>United States</td>\n",
       "    </tr>\n",
       "  </tbody>\n",
       "</table>\n",
       "</div>"
      ],
      "text/plain": [
       "                  listed_in                                            country\n",
       "0             Documentaries                                      United States\n",
       "1    International TV Shows                                       South Africa\n",
       "2            Crime TV Shows                                      United States\n",
       "3                Docuseries                                      United States\n",
       "4    International TV Shows                                              India\n",
       "5                 TV Dramas                                      United States\n",
       "6  Children & Family Movies                                      United States\n",
       "7                    Dramas  United States, Ghana, Burkina Faso, United Kin...\n",
       "8          British TV Shows                                     United Kingdom\n",
       "9                  Comedies                                      United States"
      ]
     },
     "execution_count": 32,
     "metadata": {},
     "output_type": "execute_result"
    }
   ],
   "source": [
    "cols = ['listed_in','country']\n",
    "gen_country = df[cols]\n",
    "gen_country.head(10)"
   ]
  },
  {
   "cell_type": "markdown",
   "id": "cd82589c",
   "metadata": {},
   "source": [
    "#understanding most popular genre on Netflix"
   ]
  },
  {
   "cell_type": "code",
   "execution_count": 33,
   "id": "6addace0",
   "metadata": {
    "scrolled": true
   },
   "outputs": [
    {
     "data": {
      "text/plain": [
       "(array([ 0,  1,  2,  3,  4,  5,  6,  7,  8,  9, 10, 11, 12, 13, 14]),\n",
       " [Text(0, 0, 'Dramas'),\n",
       "  Text(1, 0, 'Comedies'),\n",
       "  Text(2, 0, 'Action & Adventure'),\n",
       "  Text(3, 0, 'Documentaries'),\n",
       "  Text(4, 0, 'International TV Shows'),\n",
       "  Text(5, 0, 'Children & Family Movies'),\n",
       "  Text(6, 0, 'Crime TV Shows'),\n",
       "  Text(7, 0, \"Kids' TV\"),\n",
       "  Text(8, 0, 'Stand-Up Comedy'),\n",
       "  Text(9, 0, 'Horror Movies'),\n",
       "  Text(10, 0, 'British TV Shows'),\n",
       "  Text(11, 0, 'Docuseries'),\n",
       "  Text(12, 0, 'Anime Series'),\n",
       "  Text(13, 0, 'International Movies'),\n",
       "  Text(14, 0, 'TV Comedies')])"
      ]
     },
     "execution_count": 33,
     "metadata": {},
     "output_type": "execute_result"
    },
    {
     "data": {
      "image/png": "[encoded data removed]",
      "text/plain": [
       "<Figure size 1296x720 with 1 Axes>"
      ]
     },
     "metadata": {
      "needs_background": "light"
     },
     "output_type": "display_data"
    }
   ],
   "source": [
    "plt.figure(figsize=(18,10))\n",
    "sns.countplot(x=\"listed_in\", data=df, order=df['listed_in'].value_counts().index[0:15])\n",
    "plt.xticks(rotation =90)"
   ]
  },
  {
   "cell_type": "markdown",
   "id": "23767c7a",
   "metadata": {},
   "source": [
    "The best 'listed_in'(genre) column is 'Dramas' "
   ]
  },
  {
   "cell_type": "markdown",
   "id": "1424d600",
   "metadata": {},
   "source": [
    "Seperating the main data frame into two new dataframes to find which genre is best in movies and tv shows seperately. "
   ]
  },
  {
   "cell_type": "code",
   "execution_count": 34,
   "id": "c8a4c357",
   "metadata": {},
   "outputs": [],
   "source": [
    "movie_df = df[df['type'] == 'Movie']\n",
    "tv_df = df[df['type'] == 'TV Show']"
   ]
  },
  {
   "cell_type": "code",
   "execution_count": 35,
   "id": "0849d5e0",
   "metadata": {},
   "outputs": [
    {
     "data": {
      "text/html": [
       "<div>\n",
       "<style scoped>\n",
       "    .dataframe tbody tr th:only-of-type {\n",
       "        vertical-align: middle;\n",
       "    }\n",
       "\n",
       "    .dataframe tbody tr th {\n",
       "        vertical-align: top;\n",
       "    }\n",
       "\n",
       "    .dataframe thead th {\n",
       "        text-align: right;\n",
       "    }\n",
       "</style>\n",
       "<table border=\"1\" class=\"dataframe\">\n",
       "  <thead>\n",
       "    <tr style=\"text-align: right;\">\n",
       "      <th></th>\n",
       "      <th>show_id</th>\n",
       "      <th>type</th>\n",
       "      <th>title</th>\n",
       "      <th>country</th>\n",
       "      <th>date_added</th>\n",
       "      <th>release_year</th>\n",
       "      <th>rating</th>\n",
       "      <th>duration</th>\n",
       "      <th>listed_in</th>\n",
       "      <th>description</th>\n",
       "      <th>year</th>\n",
       "      <th>month</th>\n",
       "    </tr>\n",
       "  </thead>\n",
       "  <tbody>\n",
       "    <tr>\n",
       "      <th>1</th>\n",
       "      <td>s2</td>\n",
       "      <td>TV Show</td>\n",
       "      <td>Blood &amp; Water</td>\n",
       "      <td>South Africa</td>\n",
       "      <td>2021-09-24</td>\n",
       "      <td>2021</td>\n",
       "      <td>Adults</td>\n",
       "      <td>2 Seasons</td>\n",
       "      <td>International TV Shows</td>\n",
       "      <td>After crossing paths at a party, a Cape Town t...</td>\n",
       "      <td>2021</td>\n",
       "      <td>9</td>\n",
       "    </tr>\n",
       "    <tr>\n",
       "      <th>2</th>\n",
       "      <td>s3</td>\n",
       "      <td>TV Show</td>\n",
       "      <td>Ganglands</td>\n",
       "      <td>United States</td>\n",
       "      <td>2021-09-24</td>\n",
       "      <td>2021</td>\n",
       "      <td>Adults</td>\n",
       "      <td>1 Season</td>\n",
       "      <td>Crime TV Shows</td>\n",
       "      <td>To protect his family from a powerful drug lor...</td>\n",
       "      <td>2021</td>\n",
       "      <td>9</td>\n",
       "    </tr>\n",
       "    <tr>\n",
       "      <th>3</th>\n",
       "      <td>s4</td>\n",
       "      <td>TV Show</td>\n",
       "      <td>Jailbirds New Orleans</td>\n",
       "      <td>United States</td>\n",
       "      <td>2021-09-24</td>\n",
       "      <td>2021</td>\n",
       "      <td>Adults</td>\n",
       "      <td>1 Season</td>\n",
       "      <td>Docuseries</td>\n",
       "      <td>Feuds, flirtations and toilet talk go down amo...</td>\n",
       "      <td>2021</td>\n",
       "      <td>9</td>\n",
       "    </tr>\n",
       "    <tr>\n",
       "      <th>4</th>\n",
       "      <td>s5</td>\n",
       "      <td>TV Show</td>\n",
       "      <td>Kota Factory</td>\n",
       "      <td>India</td>\n",
       "      <td>2021-09-24</td>\n",
       "      <td>2021</td>\n",
       "      <td>Adults</td>\n",
       "      <td>2 Seasons</td>\n",
       "      <td>International TV Shows</td>\n",
       "      <td>In a city of coaching centers known to train I...</td>\n",
       "      <td>2021</td>\n",
       "      <td>9</td>\n",
       "    </tr>\n",
       "    <tr>\n",
       "      <th>5</th>\n",
       "      <td>s6</td>\n",
       "      <td>TV Show</td>\n",
       "      <td>Midnight Mass</td>\n",
       "      <td>United States</td>\n",
       "      <td>2021-09-24</td>\n",
       "      <td>2021</td>\n",
       "      <td>Adults</td>\n",
       "      <td>1 Season</td>\n",
       "      <td>TV Dramas</td>\n",
       "      <td>The arrival of a charismatic young priest brin...</td>\n",
       "      <td>2021</td>\n",
       "      <td>9</td>\n",
       "    </tr>\n",
       "  </tbody>\n",
       "</table>\n",
       "</div>"
      ],
      "text/plain": [
       "  show_id     type                  title        country date_added  \\\n",
       "1      s2  TV Show          Blood & Water   South Africa 2021-09-24   \n",
       "2      s3  TV Show              Ganglands  United States 2021-09-24   \n",
       "3      s4  TV Show  Jailbirds New Orleans  United States 2021-09-24   \n",
       "4      s5  TV Show           Kota Factory          India 2021-09-24   \n",
       "5      s6  TV Show          Midnight Mass  United States 2021-09-24   \n",
       "\n",
       "   release_year  rating   duration               listed_in  \\\n",
       "1          2021  Adults  2 Seasons  International TV Shows   \n",
       "2          2021  Adults   1 Season          Crime TV Shows   \n",
       "3          2021  Adults   1 Season              Docuseries   \n",
       "4          2021  Adults  2 Seasons  International TV Shows   \n",
       "5          2021  Adults   1 Season               TV Dramas   \n",
       "\n",
       "                                         description  year  month  \n",
       "1  After crossing paths at a party, a Cape Town t...  2021      9  \n",
       "2  To protect his family from a powerful drug lor...  2021      9  \n",
       "3  Feuds, flirtations and toilet talk go down amo...  2021      9  \n",
       "4  In a city of coaching centers known to train I...  2021      9  \n",
       "5  The arrival of a charismatic young priest brin...  2021      9  "
      ]
     },
     "execution_count": 35,
     "metadata": {},
     "output_type": "execute_result"
    }
   ],
   "source": [
    "tv_df.head()"
   ]
  },
  {
   "cell_type": "code",
   "execution_count": 36,
   "id": "93274541",
   "metadata": {},
   "outputs": [
    {
     "data": {
      "text/html": [
       "<div>\n",
       "<style scoped>\n",
       "    .dataframe tbody tr th:only-of-type {\n",
       "        vertical-align: middle;\n",
       "    }\n",
       "\n",
       "    .dataframe tbody tr th {\n",
       "        vertical-align: top;\n",
       "    }\n",
       "\n",
       "    .dataframe thead th {\n",
       "        text-align: right;\n",
       "    }\n",
       "</style>\n",
       "<table border=\"1\" class=\"dataframe\">\n",
       "  <thead>\n",
       "    <tr style=\"text-align: right;\">\n",
       "      <th></th>\n",
       "      <th>show_id</th>\n",
       "      <th>type</th>\n",
       "      <th>title</th>\n",
       "      <th>country</th>\n",
       "      <th>date_added</th>\n",
       "      <th>release_year</th>\n",
       "      <th>rating</th>\n",
       "      <th>duration</th>\n",
       "      <th>listed_in</th>\n",
       "      <th>description</th>\n",
       "      <th>year</th>\n",
       "      <th>month</th>\n",
       "    </tr>\n",
       "  </thead>\n",
       "  <tbody>\n",
       "    <tr>\n",
       "      <th>0</th>\n",
       "      <td>s1</td>\n",
       "      <td>Movie</td>\n",
       "      <td>Dick Johnson Is Dead</td>\n",
       "      <td>United States</td>\n",
       "      <td>2021-09-25</td>\n",
       "      <td>2020</td>\n",
       "      <td>Teens</td>\n",
       "      <td>90 min</td>\n",
       "      <td>Documentaries</td>\n",
       "      <td>As her father nears the end of his life, filmm...</td>\n",
       "      <td>2021</td>\n",
       "      <td>9</td>\n",
       "    </tr>\n",
       "    <tr>\n",
       "      <th>6</th>\n",
       "      <td>s7</td>\n",
       "      <td>Movie</td>\n",
       "      <td>My Little Pony: A New Generation</td>\n",
       "      <td>United States</td>\n",
       "      <td>2021-09-24</td>\n",
       "      <td>2021</td>\n",
       "      <td>Older Kids</td>\n",
       "      <td>91 min</td>\n",
       "      <td>Children &amp; Family Movies</td>\n",
       "      <td>Equestria's divided. But a bright-eyed hero be...</td>\n",
       "      <td>2021</td>\n",
       "      <td>9</td>\n",
       "    </tr>\n",
       "    <tr>\n",
       "      <th>7</th>\n",
       "      <td>s8</td>\n",
       "      <td>Movie</td>\n",
       "      <td>Sankofa</td>\n",
       "      <td>United States, Ghana, Burkina Faso, United Kin...</td>\n",
       "      <td>2021-09-24</td>\n",
       "      <td>1993</td>\n",
       "      <td>Adults</td>\n",
       "      <td>125 min</td>\n",
       "      <td>Dramas</td>\n",
       "      <td>On a photo shoot in Ghana, an American model s...</td>\n",
       "      <td>2021</td>\n",
       "      <td>9</td>\n",
       "    </tr>\n",
       "    <tr>\n",
       "      <th>9</th>\n",
       "      <td>s10</td>\n",
       "      <td>Movie</td>\n",
       "      <td>The Starling</td>\n",
       "      <td>United States</td>\n",
       "      <td>2021-09-24</td>\n",
       "      <td>2021</td>\n",
       "      <td>Teens</td>\n",
       "      <td>104 min</td>\n",
       "      <td>Comedies</td>\n",
       "      <td>A woman adjusting to life after a loss contend...</td>\n",
       "      <td>2021</td>\n",
       "      <td>9</td>\n",
       "    </tr>\n",
       "    <tr>\n",
       "      <th>12</th>\n",
       "      <td>s13</td>\n",
       "      <td>Movie</td>\n",
       "      <td>Je Suis Karl</td>\n",
       "      <td>Germany, Czech Republic</td>\n",
       "      <td>2021-09-23</td>\n",
       "      <td>2021</td>\n",
       "      <td>Adults</td>\n",
       "      <td>127 min</td>\n",
       "      <td>Dramas</td>\n",
       "      <td>After most of her family is murdered in a terr...</td>\n",
       "      <td>2021</td>\n",
       "      <td>9</td>\n",
       "    </tr>\n",
       "  </tbody>\n",
       "</table>\n",
       "</div>"
      ],
      "text/plain": [
       "   show_id   type                             title  \\\n",
       "0       s1  Movie              Dick Johnson Is Dead   \n",
       "6       s7  Movie  My Little Pony: A New Generation   \n",
       "7       s8  Movie                           Sankofa   \n",
       "9      s10  Movie                      The Starling   \n",
       "12     s13  Movie                      Je Suis Karl   \n",
       "\n",
       "                                              country date_added  \\\n",
       "0                                       United States 2021-09-25   \n",
       "6                                       United States 2021-09-24   \n",
       "7   United States, Ghana, Burkina Faso, United Kin... 2021-09-24   \n",
       "9                                       United States 2021-09-24   \n",
       "12                            Germany, Czech Republic 2021-09-23   \n",
       "\n",
       "    release_year      rating duration                 listed_in  \\\n",
       "0           2020       Teens   90 min             Documentaries   \n",
       "6           2021  Older Kids   91 min  Children & Family Movies   \n",
       "7           1993      Adults  125 min                    Dramas   \n",
       "9           2021       Teens  104 min                  Comedies   \n",
       "12          2021      Adults  127 min                    Dramas   \n",
       "\n",
       "                                          description  year  month  \n",
       "0   As her father nears the end of his life, filmm...  2021      9  \n",
       "6   Equestria's divided. But a bright-eyed hero be...  2021      9  \n",
       "7   On a photo shoot in Ghana, an American model s...  2021      9  \n",
       "9   A woman adjusting to life after a loss contend...  2021      9  \n",
       "12  After most of her family is murdered in a terr...  2021      9  "
      ]
     },
     "execution_count": 36,
     "metadata": {},
     "output_type": "execute_result"
    }
   ],
   "source": [
    "movie_df.head()"
   ]
  },
  {
   "cell_type": "code",
   "execution_count": 37,
   "id": "7f03140e",
   "metadata": {},
   "outputs": [
    {
     "data": {
      "image/png": "[encoded data removed]",
      "text/plain": [
       "<Figure size 1296x720 with 1 Axes>"
      ]
     },
     "metadata": {
      "needs_background": "light"
     },
     "output_type": "display_data"
    }
   ],
   "source": [
    "plt.figure(figsize=(18,10))\n",
    "sns.barplot(x = movie_df[\"listed_in\"].value_counts().head(10).index,\n",
    "            y = movie_df[\"listed_in\"].value_counts().head(10).values)\n",
    "plt.xticks(rotation=90)\n",
    "\n",
    "plt.show()"
   ]
  },
  {
   "cell_type": "code",
   "execution_count": 38,
   "id": "2a313247",
   "metadata": {},
   "outputs": [
    {
     "data": {
      "image/png": "[encoded data removed]",
      "text/plain": [
       "<Figure size 1296x720 with 1 Axes>"
      ]
     },
     "metadata": {
      "needs_background": "light"
     },
     "output_type": "display_data"
    }
   ],
   "source": [
    "plt.figure(figsize=(18,10))\n",
    "sns.barplot(x = tv_df[\"listed_in\"].value_counts().head(10).index,\n",
    "            y = tv_df[\"listed_in\"].value_counts().head(10).values)\n",
    "plt.xticks(rotation=90)\n",
    "\n",
    "plt.show()"
   ]
  },
  {
   "cell_type": "markdown",
   "id": "6f14537b",
   "metadata": {},
   "source": [
    "# TV-Shows with the highest numbers of seasons "
   ]
  },
  {
   "cell_type": "code",
   "execution_count": 39,
   "id": "5acdbf2c",
   "metadata": {},
   "outputs": [],
   "source": [
    "columns = ['title', 'duration']\n",
    "tv_shows = tv_df[columns]\n"
   ]
  },
  {
   "cell_type": "code",
   "execution_count": 40,
   "id": "d93e8d60",
   "metadata": {},
   "outputs": [
    {
     "data": {
      "text/html": [
       "<div>\n",
       "<style scoped>\n",
       "    .dataframe tbody tr th:only-of-type {\n",
       "        vertical-align: middle;\n",
       "    }\n",
       "\n",
       "    .dataframe tbody tr th {\n",
       "        vertical-align: top;\n",
       "    }\n",
       "\n",
       "    .dataframe thead th {\n",
       "        text-align: right;\n",
       "    }\n",
       "</style>\n",
       "<table border=\"1\" class=\"dataframe\">\n",
       "  <thead>\n",
       "    <tr style=\"text-align: right;\">\n",
       "      <th></th>\n",
       "      <th>show_id</th>\n",
       "      <th>type</th>\n",
       "      <th>title</th>\n",
       "      <th>country</th>\n",
       "      <th>date_added</th>\n",
       "      <th>release_year</th>\n",
       "      <th>rating</th>\n",
       "      <th>duration</th>\n",
       "      <th>listed_in</th>\n",
       "      <th>description</th>\n",
       "      <th>year</th>\n",
       "      <th>month</th>\n",
       "    </tr>\n",
       "  </thead>\n",
       "  <tbody>\n",
       "    <tr>\n",
       "      <th>1480</th>\n",
       "      <td>s1481</td>\n",
       "      <td>TV Show</td>\n",
       "      <td>Still Game</td>\n",
       "      <td>United Kingdom</td>\n",
       "      <td>2020-12-30</td>\n",
       "      <td>2018</td>\n",
       "      <td>Teens</td>\n",
       "      <td>9 Seasons</td>\n",
       "      <td>British TV Shows</td>\n",
       "      <td>Scottish pensioners Jack and Victor make the m...</td>\n",
       "      <td>2020</td>\n",
       "      <td>12</td>\n",
       "    </tr>\n",
       "    <tr>\n",
       "      <th>6504</th>\n",
       "      <td>s6505</td>\n",
       "      <td>TV Show</td>\n",
       "      <td>Club Friday The Series 6</td>\n",
       "      <td>United States</td>\n",
       "      <td>2019-03-09</td>\n",
       "      <td>2015</td>\n",
       "      <td>Adults</td>\n",
       "      <td>9 Seasons</td>\n",
       "      <td>International TV Shows</td>\n",
       "      <td>Based on a Thai radio show that gives love adv...</td>\n",
       "      <td>2019</td>\n",
       "      <td>3</td>\n",
       "    </tr>\n",
       "    <tr>\n",
       "      <th>67</th>\n",
       "      <td>s68</td>\n",
       "      <td>TV Show</td>\n",
       "      <td>Saved by the Bell</td>\n",
       "      <td>United States</td>\n",
       "      <td>2021-09-15</td>\n",
       "      <td>1994</td>\n",
       "      <td>Older Kids</td>\n",
       "      <td>9 Seasons</td>\n",
       "      <td>Kids' TV</td>\n",
       "      <td>From middle school to college, best friends Za...</td>\n",
       "      <td>2021</td>\n",
       "      <td>9</td>\n",
       "    </tr>\n",
       "    <tr>\n",
       "      <th>1998</th>\n",
       "      <td>s1999</td>\n",
       "      <td>TV Show</td>\n",
       "      <td>Call the Midwife</td>\n",
       "      <td>United Kingdom</td>\n",
       "      <td>2020-09-15</td>\n",
       "      <td>2020</td>\n",
       "      <td>Adults</td>\n",
       "      <td>9 Seasons</td>\n",
       "      <td>British TV Shows</td>\n",
       "      <td>This period drama set in impoverished East Lon...</td>\n",
       "      <td>2020</td>\n",
       "      <td>9</td>\n",
       "    </tr>\n",
       "    <tr>\n",
       "      <th>8</th>\n",
       "      <td>s9</td>\n",
       "      <td>TV Show</td>\n",
       "      <td>The Great British Baking Show</td>\n",
       "      <td>United Kingdom</td>\n",
       "      <td>2021-09-24</td>\n",
       "      <td>2021</td>\n",
       "      <td>Teens</td>\n",
       "      <td>9 Seasons</td>\n",
       "      <td>British TV Shows</td>\n",
       "      <td>A talented batch of amateur bakers face off in...</td>\n",
       "      <td>2021</td>\n",
       "      <td>9</td>\n",
       "    </tr>\n",
       "    <tr>\n",
       "      <th>8442</th>\n",
       "      <td>s8443</td>\n",
       "      <td>TV Show</td>\n",
       "      <td>The Office (U.S.)</td>\n",
       "      <td>United States</td>\n",
       "      <td>2016-01-01</td>\n",
       "      <td>2012</td>\n",
       "      <td>Teens</td>\n",
       "      <td>9 Seasons</td>\n",
       "      <td>TV Comedies</td>\n",
       "      <td>This hit comedy chronicles the foibles of disg...</td>\n",
       "      <td>2016</td>\n",
       "      <td>1</td>\n",
       "    </tr>\n",
       "    <tr>\n",
       "      <th>5803</th>\n",
       "      <td>s5804</td>\n",
       "      <td>TV Show</td>\n",
       "      <td>Forensic Files</td>\n",
       "      <td>United States</td>\n",
       "      <td>2016-09-01</td>\n",
       "      <td>2011</td>\n",
       "      <td>Adults</td>\n",
       "      <td>9 Seasons</td>\n",
       "      <td>Crime TV Shows</td>\n",
       "      <td>Detectives and crime lab technicians use the l...</td>\n",
       "      <td>2016</td>\n",
       "      <td>9</td>\n",
       "    </tr>\n",
       "    <tr>\n",
       "      <th>3541</th>\n",
       "      <td>s3542</td>\n",
       "      <td>TV Show</td>\n",
       "      <td>Naruto</td>\n",
       "      <td>Japan</td>\n",
       "      <td>2019-09-01</td>\n",
       "      <td>2006</td>\n",
       "      <td>Teens</td>\n",
       "      <td>9 Seasons</td>\n",
       "      <td>Anime Series</td>\n",
       "      <td>Guided by the spirit demon within him, orphane...</td>\n",
       "      <td>2019</td>\n",
       "      <td>9</td>\n",
       "    </tr>\n",
       "    <tr>\n",
       "      <th>1701</th>\n",
       "      <td>s1702</td>\n",
       "      <td>TV Show</td>\n",
       "      <td>American Horror Story</td>\n",
       "      <td>United States</td>\n",
       "      <td>2020-11-13</td>\n",
       "      <td>2019</td>\n",
       "      <td>Adults</td>\n",
       "      <td>9 Seasons</td>\n",
       "      <td>TV Horror</td>\n",
       "      <td>This twisted Emmy-winning drama plays upon the...</td>\n",
       "      <td>2020</td>\n",
       "      <td>11</td>\n",
       "    </tr>\n",
       "    <tr>\n",
       "      <th>1933</th>\n",
       "      <td>s1934</td>\n",
       "      <td>TV Show</td>\n",
       "      <td>Wentworth</td>\n",
       "      <td>Australia</td>\n",
       "      <td>2020-09-30</td>\n",
       "      <td>2020</td>\n",
       "      <td>Adults</td>\n",
       "      <td>8 Seasons</td>\n",
       "      <td>Crime TV Shows</td>\n",
       "      <td>Bea Smith is locked up while awaiting trial fo...</td>\n",
       "      <td>2020</td>\n",
       "      <td>9</td>\n",
       "    </tr>\n",
       "  </tbody>\n",
       "</table>\n",
       "</div>"
      ],
      "text/plain": [
       "     show_id     type                          title         country  \\\n",
       "1480   s1481  TV Show                     Still Game  United Kingdom   \n",
       "6504   s6505  TV Show       Club Friday The Series 6   United States   \n",
       "67       s68  TV Show              Saved by the Bell   United States   \n",
       "1998   s1999  TV Show               Call the Midwife  United Kingdom   \n",
       "8         s9  TV Show  The Great British Baking Show  United Kingdom   \n",
       "8442   s8443  TV Show              The Office (U.S.)   United States   \n",
       "5803   s5804  TV Show                 Forensic Files   United States   \n",
       "3541   s3542  TV Show                         Naruto           Japan   \n",
       "1701   s1702  TV Show          American Horror Story   United States   \n",
       "1933   s1934  TV Show                      Wentworth       Australia   \n",
       "\n",
       "     date_added  release_year      rating   duration               listed_in  \\\n",
       "1480 2020-12-30          2018       Teens  9 Seasons        British TV Shows   \n",
       "6504 2019-03-09          2015      Adults  9 Seasons  International TV Shows   \n",
       "67   2021-09-15          1994  Older Kids  9 Seasons                Kids' TV   \n",
       "1998 2020-09-15          2020      Adults  9 Seasons        British TV Shows   \n",
       "8    2021-09-24          2021       Teens  9 Seasons        British TV Shows   \n",
       "8442 2016-01-01          2012       Teens  9 Seasons             TV Comedies   \n",
       "5803 2016-09-01          2011      Adults  9 Seasons          Crime TV Shows   \n",
       "3541 2019-09-01          2006       Teens  9 Seasons            Anime Series   \n",
       "1701 2020-11-13          2019      Adults  9 Seasons               TV Horror   \n",
       "1933 2020-09-30          2020      Adults  8 Seasons          Crime TV Shows   \n",
       "\n",
       "                                            description  year  month  \n",
       "1480  Scottish pensioners Jack and Victor make the m...  2020     12  \n",
       "6504  Based on a Thai radio show that gives love adv...  2019      3  \n",
       "67    From middle school to college, best friends Za...  2021      9  \n",
       "1998  This period drama set in impoverished East Lon...  2020      9  \n",
       "8     A talented batch of amateur bakers face off in...  2021      9  \n",
       "8442  This hit comedy chronicles the foibles of disg...  2016      1  \n",
       "5803  Detectives and crime lab technicians use the l...  2016      9  \n",
       "3541  Guided by the spirit demon within him, orphane...  2019      9  \n",
       "1701  This twisted Emmy-winning drama plays upon the...  2020     11  \n",
       "1933  Bea Smith is locked up while awaiting trial fo...  2020      9  "
      ]
     },
     "execution_count": 40,
     "metadata": {},
     "output_type": "execute_result"
    }
   ],
   "source": [
    "tv_shows = tv_df.sort_values(by = 'duration', ascending = False)\n",
    "tv_shows.head(10)"
   ]
  },
  {
   "cell_type": "code",
   "execution_count": 41,
   "id": "e96fc54a",
   "metadata": {},
   "outputs": [
    {
     "data": {
      "text/plain": [
       "show_id                 object\n",
       "type                    object\n",
       "title                   object\n",
       "country                 object\n",
       "date_added      datetime64[ns]\n",
       "release_year             int64\n",
       "rating                  object\n",
       "duration                object\n",
       "listed_in               object\n",
       "description             object\n",
       "year                     int64\n",
       "month                    int64\n",
       "dtype: object"
      ]
     },
     "execution_count": 41,
     "metadata": {},
     "output_type": "execute_result"
    }
   ],
   "source": [
    "tv_df.dtypes"
   ]
  },
  {
   "cell_type": "code",
   "execution_count": 42,
   "id": "e2e12d22",
   "metadata": {},
   "outputs": [
    {
     "name": "stderr",
     "output_type": "stream",
     "text": [
      "C:\\Users\\akki2\\AppData\\Local\\Temp\\ipykernel_59824\\2561601187.py:1: SettingWithCopyWarning: \n",
      "A value is trying to be set on a copy of a slice from a DataFrame.\n",
      "Try using .loc[row_indexer,col_indexer] = value instead\n",
      "\n",
      "See the caveats in the documentation: https://pandas.pydata.org/pandas-docs/stable/user_guide/indexing.html#returning-a-view-versus-a-copy\n",
      "  tv_df['duration'] = tv_df['duration'].str.replace('Seasons', '')\n",
      "C:\\Users\\akki2\\AppData\\Local\\Temp\\ipykernel_59824\\2561601187.py:2: SettingWithCopyWarning: \n",
      "A value is trying to be set on a copy of a slice from a DataFrame.\n",
      "Try using .loc[row_indexer,col_indexer] = value instead\n",
      "\n",
      "See the caveats in the documentation: https://pandas.pydata.org/pandas-docs/stable/user_guide/indexing.html#returning-a-view-versus-a-copy\n",
      "  tv_df['duration'] = tv_df['duration'].str.replace('Season','')\n",
      "C:\\Users\\akki2\\AppData\\Local\\Temp\\ipykernel_59824\\2561601187.py:3: SettingWithCopyWarning: \n",
      "A value is trying to be set on a copy of a slice from a DataFrame.\n",
      "Try using .loc[row_indexer,col_indexer] = value instead\n",
      "\n",
      "See the caveats in the documentation: https://pandas.pydata.org/pandas-docs/stable/user_guide/indexing.html#returning-a-view-versus-a-copy\n",
      "  tv_df['duration'] = tv_df['duration'].str.replace('Seaon','')\n"
     ]
    },
    {
     "data": {
      "text/plain": [
       "1       2 \n",
       "2       1 \n",
       "3       1 \n",
       "4       2 \n",
       "5       1 \n",
       "        ..\n",
       "8795    2 \n",
       "8796    2 \n",
       "8797    3 \n",
       "8800    1 \n",
       "8803    2 \n",
       "Name: duration, Length: 2676, dtype: object"
      ]
     },
     "execution_count": 42,
     "metadata": {},
     "output_type": "execute_result"
    }
   ],
   "source": [
    "tv_df['duration'] = tv_df['duration'].str.replace('Seasons', '')\n",
    "tv_df['duration'] = tv_df['duration'].str.replace('Season','')\n",
    "tv_df['duration'] = tv_df['duration'].str.replace('Seaon','')\n",
    "tv_df['duration']"
   ]
  },
  {
   "cell_type": "code",
   "execution_count": 43,
   "id": "d6b5a7bc",
   "metadata": {},
   "outputs": [
    {
     "name": "stderr",
     "output_type": "stream",
     "text": [
      "C:\\Users\\akki2\\AppData\\Local\\Temp\\ipykernel_59824\\3375197163.py:1: SettingWithCopyWarning: \n",
      "A value is trying to be set on a copy of a slice from a DataFrame.\n",
      "Try using .loc[row_indexer,col_indexer] = value instead\n",
      "\n",
      "See the caveats in the documentation: https://pandas.pydata.org/pandas-docs/stable/user_guide/indexing.html#returning-a-view-versus-a-copy\n",
      "  tv_df['duration']=tv_df['duration'].astype(str).astype(int)\n"
     ]
    }
   ],
   "source": [
    "tv_df['duration']=tv_df['duration'].astype(str).astype(int)"
   ]
  },
  {
   "cell_type": "code",
   "execution_count": 44,
   "id": "5235b553",
   "metadata": {},
   "outputs": [
    {
     "data": {
      "text/plain": [
       "1       2\n",
       "2       1\n",
       "3       1\n",
       "4       2\n",
       "5       1\n",
       "       ..\n",
       "8795    2\n",
       "8796    2\n",
       "8797    3\n",
       "8800    1\n",
       "8803    2\n",
       "Name: duration, Length: 2676, dtype: int32"
      ]
     },
     "execution_count": 44,
     "metadata": {},
     "output_type": "execute_result"
    }
   ],
   "source": [
    "tv_df['duration']"
   ]
  },
  {
   "cell_type": "code",
   "execution_count": 45,
   "id": "5b18945f",
   "metadata": {},
   "outputs": [],
   "source": [
    "columns=['title','duration']\n",
    "tv_shows = tv_df[columns]"
   ]
  },
  {
   "cell_type": "code",
   "execution_count": 46,
   "id": "dc4d8587",
   "metadata": {},
   "outputs": [
    {
     "data": {
      "text/html": [
       "<div>\n",
       "<style scoped>\n",
       "    .dataframe tbody tr th:only-of-type {\n",
       "        vertical-align: middle;\n",
       "    }\n",
       "\n",
       "    .dataframe tbody tr th {\n",
       "        vertical-align: top;\n",
       "    }\n",
       "\n",
       "    .dataframe thead th {\n",
       "        text-align: right;\n",
       "    }\n",
       "</style>\n",
       "<table border=\"1\" class=\"dataframe\">\n",
       "  <thead>\n",
       "    <tr style=\"text-align: right;\">\n",
       "      <th></th>\n",
       "      <th>title</th>\n",
       "      <th>duration</th>\n",
       "    </tr>\n",
       "  </thead>\n",
       "  <tbody>\n",
       "    <tr>\n",
       "      <th>548</th>\n",
       "      <td>Grey's Anatomy</td>\n",
       "      <td>17</td>\n",
       "    </tr>\n",
       "    <tr>\n",
       "      <th>2423</th>\n",
       "      <td>Supernatural</td>\n",
       "      <td>15</td>\n",
       "    </tr>\n",
       "    <tr>\n",
       "      <th>4798</th>\n",
       "      <td>NCIS</td>\n",
       "      <td>15</td>\n",
       "    </tr>\n",
       "    <tr>\n",
       "      <th>1354</th>\n",
       "      <td>Heartland</td>\n",
       "      <td>13</td>\n",
       "    </tr>\n",
       "    <tr>\n",
       "      <th>4220</th>\n",
       "      <td>COMEDIANS of the world</td>\n",
       "      <td>13</td>\n",
       "    </tr>\n",
       "    <tr>\n",
       "      <th>7847</th>\n",
       "      <td>Red vs. Blue</td>\n",
       "      <td>13</td>\n",
       "    </tr>\n",
       "    <tr>\n",
       "      <th>4964</th>\n",
       "      <td>Trailer Park Boys</td>\n",
       "      <td>12</td>\n",
       "    </tr>\n",
       "    <tr>\n",
       "      <th>5412</th>\n",
       "      <td>Criminal Minds</td>\n",
       "      <td>12</td>\n",
       "    </tr>\n",
       "    <tr>\n",
       "      <th>6795</th>\n",
       "      <td>Frasier</td>\n",
       "      <td>11</td>\n",
       "    </tr>\n",
       "    <tr>\n",
       "      <th>6456</th>\n",
       "      <td>Cheers</td>\n",
       "      <td>11</td>\n",
       "    </tr>\n",
       "  </tbody>\n",
       "</table>\n",
       "</div>"
      ],
      "text/plain": [
       "                       title  duration\n",
       "548           Grey's Anatomy        17\n",
       "2423            Supernatural        15\n",
       "4798                    NCIS        15\n",
       "1354               Heartland        13\n",
       "4220  COMEDIANS of the world        13\n",
       "7847            Red vs. Blue        13\n",
       "4964       Trailer Park Boys        12\n",
       "5412          Criminal Minds        12\n",
       "6795                 Frasier        11\n",
       "6456                  Cheers        11"
      ]
     },
     "execution_count": 46,
     "metadata": {},
     "output_type": "execute_result"
    }
   ],
   "source": [
    "tv_shows = tv_shows.sort_values(by='duration',ascending=False)\n",
    "tv_shows\n",
    "top10 = tv_shows[0:10]\n",
    "top10"
   ]
  },
  {
   "cell_type": "code",
   "execution_count": 47,
   "id": "d555b213",
   "metadata": {},
   "outputs": [
    {
     "data": {
      "text/plain": [
       "<AxesSubplot:xlabel='title'>"
      ]
     },
     "execution_count": 47,
     "metadata": {},
     "output_type": "execute_result"
    },
    {
     "data": {
      "text/plain": [
       "<Figure size 720x432 with 0 Axes>"
      ]
     },
     "metadata": {},
     "output_type": "display_data"
    },
    {
     "data": {
      "image/png": "[encoded data removed]",
      "text/plain": [
       "<Figure size 432x288 with 1 Axes>"
      ]
     },
     "metadata": {
      "needs_background": "light"
     },
     "output_type": "display_data"
    }
   ],
   "source": [
    "plt.figure(figsize=(10,6))\n",
    "top10.plot(kind='bar',x='title',y='duration')"
   ]
  },
  {
   "cell_type": "markdown",
   "id": "2dffad40",
   "metadata": {},
   "source": [
    "#  What is the maximum duration of movies in Netflix ?"
   ]
  },
  {
   "cell_type": "code",
   "execution_count": 48,
   "id": "bf16c979",
   "metadata": {},
   "outputs": [
    {
     "name": "stderr",
     "output_type": "stream",
     "text": [
      "C:\\Users\\akki2\\AppData\\Local\\Temp\\ipykernel_59824\\1588359753.py:1: SettingWithCopyWarning: \n",
      "A value is trying to be set on a copy of a slice from a DataFrame.\n",
      "Try using .loc[row_indexer,col_indexer] = value instead\n",
      "\n",
      "See the caveats in the documentation: https://pandas.pydata.org/pandas-docs/stable/user_guide/indexing.html#returning-a-view-versus-a-copy\n",
      "  movie_df['duration']=movie_df['duration'].str.replace('min','')\n"
     ]
    },
    {
     "data": {
      "text/plain": [
       "0        90 \n",
       "6        91 \n",
       "7       125 \n",
       "9       104 \n",
       "12      127 \n",
       "        ... \n",
       "8801     96 \n",
       "8802    158 \n",
       "8804     88 \n",
       "8805     88 \n",
       "8806    111 \n",
       "Name: duration, Length: 6128, dtype: object"
      ]
     },
     "execution_count": 48,
     "metadata": {},
     "output_type": "execute_result"
    }
   ],
   "source": [
    "movie_df['duration']=movie_df['duration'].str.replace('min','')\n",
    "movie_df['duration']"
   ]
  },
  {
   "cell_type": "code",
   "execution_count": 49,
   "id": "1ac7a5cb",
   "metadata": {},
   "outputs": [
    {
     "name": "stderr",
     "output_type": "stream",
     "text": [
      "C:\\Users\\akki2\\AppData\\Local\\Temp\\ipykernel_59824\\773198234.py:1: SettingWithCopyWarning: \n",
      "A value is trying to be set on a copy of a slice from a DataFrame.\n",
      "Try using .loc[row_indexer,col_indexer] = value instead\n",
      "\n",
      "See the caveats in the documentation: https://pandas.pydata.org/pandas-docs/stable/user_guide/indexing.html#returning-a-view-versus-a-copy\n",
      "  movie_df['duration']=movie_df['duration'].astype(str).astype(int)\n"
     ]
    }
   ],
   "source": [
    "movie_df['duration']=movie_df['duration'].astype(str).astype(int)"
   ]
  },
  {
   "cell_type": "code",
   "execution_count": 50,
   "id": "ba90c160",
   "metadata": {},
   "outputs": [
    {
     "data": {
      "text/plain": [
       "0        90\n",
       "6        91\n",
       "7       125\n",
       "9       104\n",
       "12      127\n",
       "       ... \n",
       "8801     96\n",
       "8802    158\n",
       "8804     88\n",
       "8805     88\n",
       "8806    111\n",
       "Name: duration, Length: 6128, dtype: int32"
      ]
     },
     "execution_count": 50,
     "metadata": {},
     "output_type": "execute_result"
    }
   ],
   "source": [
    "movie_df['duration']"
   ]
  },
  {
   "cell_type": "code",
   "execution_count": 51,
   "id": "2d22ed6d",
   "metadata": {},
   "outputs": [
    {
     "data": {
      "text/plain": [
       "<AxesSubplot:xlabel='duration', ylabel='Density'>"
      ]
     },
     "execution_count": 51,
     "metadata": {},
     "output_type": "execute_result"
    },
    {
     "data": {
      "image/png": "[encoded data removed]",
      "text/plain": [
       "<Figure size 432x288 with 1 Axes>"
      ]
     },
     "metadata": {
      "needs_background": "light"
     },
     "output_type": "display_data"
    }
   ],
   "source": [
    "sns.kdeplot(movie_df['duration'])"
   ]
  },
  {
   "cell_type": "markdown",
   "id": "e16b6a99",
   "metadata": {},
   "source": [
    "As you see, a good amount of movies on Netflix are among the duration of 75-120 mins. It is acceptable considering the fact that a fair amount of the audience cannot watch a 3 hour movie in one sitting"
   ]
  },
  {
   "cell_type": "markdown",
   "id": "27e1c75b",
   "metadata": {},
   "source": [
    "Hope you liked the analysis! "
   ]
  }
 ],
 "metadata": {
  "kernelspec": {
   "display_name": "Mid_bootcamp_project",
   "language": "python",
   "name": "mid_bootcamp_project"
  },
  "language_info": {
   "codemirror_mode": {
    "name": "ipython",
    "version": 3
   },
   "file_extension": ".py",
   "mimetype": "text/x-python",
   "name": "python",
   "nbconvert_exporter": "python",
   "pygments_lexer": "ipython3",
   "version": "3.9.12"
  }
 },
 "nbformat": 4,
 "nbformat_minor": 5
}
